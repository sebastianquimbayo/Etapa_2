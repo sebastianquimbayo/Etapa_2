{
 "cells": [
  {
   "cell_type": "markdown",
   "id": "8164058a-da2e-4f41-9ae5-06ddab1b83bb",
   "metadata": {},
   "source": [
    "## Ejercicio regresión logística"
   ]
  },
  {
   "cell_type": "code",
   "execution_count": 1,
   "id": "0cded66a-4d35-464e-9675-f09d38ff6ff6",
   "metadata": {
    "tags": []
   },
   "outputs": [],
   "source": [
    "#Cargamos las librerías\n",
    "\n",
    "import matplotlib.pyplot as plt\n",
    "from sklearn import linear_model\n",
    "from sklearn.metrics import r2_score\n",
    "from sklearn.linear_model import LogisticRegression\n",
    "from sklearn.impute import SimpleImputer\n",
    "import seaborn as sns\n",
    "import numpy as np\n",
    "import pandas as pd"
   ]
  },
  {
   "cell_type": "code",
   "execution_count": 2,
   "id": "043ffac5-c789-4227-b5ee-2fe2ab675e5c",
   "metadata": {
    "tags": []
   },
   "outputs": [
    {
     "data": {
      "text/html": [
       "<div>\n",
       "<style scoped>\n",
       "    .dataframe tbody tr th:only-of-type {\n",
       "        vertical-align: middle;\n",
       "    }\n",
       "\n",
       "    .dataframe tbody tr th {\n",
       "        vertical-align: top;\n",
       "    }\n",
       "\n",
       "    .dataframe thead th {\n",
       "        text-align: right;\n",
       "    }\n",
       "</style>\n",
       "<table border=\"1\" class=\"dataframe\">\n",
       "  <thead>\n",
       "    <tr style=\"text-align: right;\">\n",
       "      <th></th>\n",
       "      <th>male</th>\n",
       "      <th>age</th>\n",
       "      <th>education</th>\n",
       "      <th>currentSmoker</th>\n",
       "      <th>cigsPerDay</th>\n",
       "      <th>BPMeds</th>\n",
       "      <th>prevalentStroke</th>\n",
       "      <th>prevalentHyp</th>\n",
       "      <th>diabetes</th>\n",
       "      <th>totChol</th>\n",
       "      <th>sysBP</th>\n",
       "      <th>diaBP</th>\n",
       "      <th>BMI</th>\n",
       "      <th>heartRate</th>\n",
       "      <th>glucose</th>\n",
       "      <th>TenYearCHD</th>\n",
       "    </tr>\n",
       "  </thead>\n",
       "  <tbody>\n",
       "    <tr>\n",
       "      <th>0</th>\n",
       "      <td>1</td>\n",
       "      <td>39</td>\n",
       "      <td>4.0</td>\n",
       "      <td>0</td>\n",
       "      <td>0.0</td>\n",
       "      <td>0.0</td>\n",
       "      <td>0</td>\n",
       "      <td>0</td>\n",
       "      <td>0</td>\n",
       "      <td>195.0</td>\n",
       "      <td>106.0</td>\n",
       "      <td>70.0</td>\n",
       "      <td>26.97</td>\n",
       "      <td>80.0</td>\n",
       "      <td>77.0</td>\n",
       "      <td>0</td>\n",
       "    </tr>\n",
       "    <tr>\n",
       "      <th>1</th>\n",
       "      <td>0</td>\n",
       "      <td>46</td>\n",
       "      <td>2.0</td>\n",
       "      <td>0</td>\n",
       "      <td>0.0</td>\n",
       "      <td>0.0</td>\n",
       "      <td>0</td>\n",
       "      <td>0</td>\n",
       "      <td>0</td>\n",
       "      <td>250.0</td>\n",
       "      <td>121.0</td>\n",
       "      <td>81.0</td>\n",
       "      <td>28.73</td>\n",
       "      <td>95.0</td>\n",
       "      <td>76.0</td>\n",
       "      <td>0</td>\n",
       "    </tr>\n",
       "    <tr>\n",
       "      <th>2</th>\n",
       "      <td>1</td>\n",
       "      <td>48</td>\n",
       "      <td>1.0</td>\n",
       "      <td>1</td>\n",
       "      <td>20.0</td>\n",
       "      <td>0.0</td>\n",
       "      <td>0</td>\n",
       "      <td>0</td>\n",
       "      <td>0</td>\n",
       "      <td>245.0</td>\n",
       "      <td>127.5</td>\n",
       "      <td>80.0</td>\n",
       "      <td>25.34</td>\n",
       "      <td>75.0</td>\n",
       "      <td>70.0</td>\n",
       "      <td>0</td>\n",
       "    </tr>\n",
       "    <tr>\n",
       "      <th>3</th>\n",
       "      <td>0</td>\n",
       "      <td>61</td>\n",
       "      <td>3.0</td>\n",
       "      <td>1</td>\n",
       "      <td>30.0</td>\n",
       "      <td>0.0</td>\n",
       "      <td>0</td>\n",
       "      <td>1</td>\n",
       "      <td>0</td>\n",
       "      <td>225.0</td>\n",
       "      <td>150.0</td>\n",
       "      <td>95.0</td>\n",
       "      <td>28.58</td>\n",
       "      <td>65.0</td>\n",
       "      <td>103.0</td>\n",
       "      <td>1</td>\n",
       "    </tr>\n",
       "    <tr>\n",
       "      <th>4</th>\n",
       "      <td>0</td>\n",
       "      <td>46</td>\n",
       "      <td>3.0</td>\n",
       "      <td>1</td>\n",
       "      <td>23.0</td>\n",
       "      <td>0.0</td>\n",
       "      <td>0</td>\n",
       "      <td>0</td>\n",
       "      <td>0</td>\n",
       "      <td>285.0</td>\n",
       "      <td>130.0</td>\n",
       "      <td>84.0</td>\n",
       "      <td>23.10</td>\n",
       "      <td>85.0</td>\n",
       "      <td>85.0</td>\n",
       "      <td>0</td>\n",
       "    </tr>\n",
       "  </tbody>\n",
       "</table>\n",
       "</div>"
      ],
      "text/plain": [
       "   male  age  education  currentSmoker  cigsPerDay  BPMeds  prevalentStroke  \\\n",
       "0     1   39        4.0              0         0.0     0.0                0   \n",
       "1     0   46        2.0              0         0.0     0.0                0   \n",
       "2     1   48        1.0              1        20.0     0.0                0   \n",
       "3     0   61        3.0              1        30.0     0.0                0   \n",
       "4     0   46        3.0              1        23.0     0.0                0   \n",
       "\n",
       "   prevalentHyp  diabetes  totChol  sysBP  diaBP    BMI  heartRate  glucose  \\\n",
       "0             0         0    195.0  106.0   70.0  26.97       80.0     77.0   \n",
       "1             0         0    250.0  121.0   81.0  28.73       95.0     76.0   \n",
       "2             0         0    245.0  127.5   80.0  25.34       75.0     70.0   \n",
       "3             1         0    225.0  150.0   95.0  28.58       65.0    103.0   \n",
       "4             0         0    285.0  130.0   84.0  23.10       85.0     85.0   \n",
       "\n",
       "   TenYearCHD  \n",
       "0           0  \n",
       "1           0  \n",
       "2           0  \n",
       "3           1  \n",
       "4           0  "
      ]
     },
     "execution_count": 2,
     "metadata": {},
     "output_type": "execute_result"
    }
   ],
   "source": [
    "#Cargamos el Dataset y mostramos los primeros 5 datos de todo el conjunto\n",
    "\n",
    "data = pd.read_csv(\"C:/datos/framingham.csv\")\n",
    "\n",
    "data.head(5)"
   ]
  },
  {
   "cell_type": "code",
   "execution_count": 3,
   "id": "7b5e058c-53c3-40a5-b84f-1f073967cafe",
   "metadata": {
    "tags": []
   },
   "outputs": [
    {
     "data": {
      "text/html": [
       "<div>\n",
       "<style scoped>\n",
       "    .dataframe tbody tr th:only-of-type {\n",
       "        vertical-align: middle;\n",
       "    }\n",
       "\n",
       "    .dataframe tbody tr th {\n",
       "        vertical-align: top;\n",
       "    }\n",
       "\n",
       "    .dataframe thead th {\n",
       "        text-align: right;\n",
       "    }\n",
       "</style>\n",
       "<table border=\"1\" class=\"dataframe\">\n",
       "  <thead>\n",
       "    <tr style=\"text-align: right;\">\n",
       "      <th></th>\n",
       "      <th>glucose</th>\n",
       "      <th>diabetes</th>\n",
       "    </tr>\n",
       "  </thead>\n",
       "  <tbody>\n",
       "    <tr>\n",
       "      <th>0</th>\n",
       "      <td>77.0</td>\n",
       "      <td>0</td>\n",
       "    </tr>\n",
       "    <tr>\n",
       "      <th>1</th>\n",
       "      <td>76.0</td>\n",
       "      <td>0</td>\n",
       "    </tr>\n",
       "    <tr>\n",
       "      <th>2</th>\n",
       "      <td>70.0</td>\n",
       "      <td>0</td>\n",
       "    </tr>\n",
       "    <tr>\n",
       "      <th>3</th>\n",
       "      <td>103.0</td>\n",
       "      <td>0</td>\n",
       "    </tr>\n",
       "    <tr>\n",
       "      <th>4</th>\n",
       "      <td>85.0</td>\n",
       "      <td>0</td>\n",
       "    </tr>\n",
       "  </tbody>\n",
       "</table>\n",
       "</div>"
      ],
      "text/plain": [
       "   glucose  diabetes\n",
       "0     77.0         0\n",
       "1     76.0         0\n",
       "2     70.0         0\n",
       "3    103.0         0\n",
       "4     85.0         0"
      ]
     },
     "execution_count": 3,
     "metadata": {},
     "output_type": "execute_result"
    }
   ],
   "source": [
    "#Con base en lo anterior seleccionaremos como variables de interes las siguientes: diabetes y glucose\n",
    "\n",
    "#Ponemos en una tabla las variables que vamos a trabajar\n",
    "\n",
    "data[['glucose','diabetes']].head()"
   ]
  },
  {
   "cell_type": "code",
   "execution_count": 4,
   "id": "1a7fba87-9698-4385-9984-b988d7392b10",
   "metadata": {
    "tags": []
   },
   "outputs": [
    {
     "name": "stdout",
     "output_type": "stream",
     "text": [
      "Coeficientes: [[0.08473258]]\n",
      "Intercepto: [-11.89918774]\n"
     ]
    }
   ],
   "source": [
    "# Creamos un modelo de regresión logística\n",
    "\n",
    "regresion = LogisticRegression()\n",
    "\n",
    "# Ajustamos el modelo a los datos\n",
    "\n",
    "x = data[['glucose']]  \n",
    "y = data['diabetes']  \n",
    "\n",
    "# Eliminamos las filas que les falta valores\n",
    "x = x.dropna() \n",
    "y = y.loc[x.index] \n",
    "\n",
    "regresion.fit(x, y)\n",
    "\n",
    "# Sacamos los coeficientes de la regresión\n",
    "\n",
    "coeficientes = regresion.coef_\n",
    "intercept = regresion.intercept_\n",
    "\n",
    "print(f\"Coeficientes: {coeficientes}\")\n",
    "print(f\"Intercepto: {intercept}\")\n",
    "\n",
    "# Puntos de corte\n",
    "\n",
    "w = coeficientes[0][0]\n",
    "b = intercept[0]\n",
    "corte_x = -b / w\n",
    "corte_y = 0.5"
   ]
  },
  {
   "cell_type": "code",
   "execution_count": 5,
   "id": "d87066df-5c56-486d-a37e-7bd4c90b617c",
   "metadata": {
    "tags": []
   },
   "outputs": [
    {
     "data": {
      "image/png": "[encoded data removed]",
      "text/plain": [
       "<Figure size 640x480 with 1 Axes>"
      ]
     },
     "metadata": {},
     "output_type": "display_data"
    }
   ],
   "source": [
    "#Ahora realizaremos un grafico de dispersión para tener una idea principal\n",
    "\n",
    "data.plot.scatter(x=\"glucose\", y=\"diabetes\", label=\"Datos\")\n",
    "plt.xlabel('glucose')\n",
    "plt.ylabel('Diabetes')\n",
    "plt.show()"
   ]
  },
  {
   "cell_type": "code",
   "execution_count": 6,
   "id": "d2e5ec87-506c-4236-9bd6-96aa5ec16090",
   "metadata": {
    "tags": []
   },
   "outputs": [
    {
     "data": {
      "image/png": "[encoded data removed]",
      "text/plain": [
       "<Figure size 640x480 with 1 Axes>"
      ]
     },
     "metadata": {},
     "output_type": "display_data"
    }
   ],
   "source": [
    "#Realizamos la grafica de regresión logística \n",
    "\n",
    "# puntos de la recta\n",
    "x = np.linspace(0,data['glucose'].max(),100)\n",
    "y = 1/(1+np.exp(-(w*x+b)))\n",
    "\n",
    "# grafica de la recta\n",
    "data.plot.scatter(x='glucose',y='diabetes')\n",
    "plt.plot(x, y, '-r') \n",
    "plt.scatter(corte_x, corte_y, color='black', marker='*')\n",
    "plt.ylim(0,data['diabetes'].max()*1.1)\n",
    "plt.show()"
   ]
  },
  {
   "cell_type": "code",
   "execution_count": 7,
   "id": "dc9f392c-9922-43a8-8777-ae8a943a4b72",
   "metadata": {
    "tags": []
   },
   "outputs": [
    {
     "name": "stdout",
     "output_type": "stream",
     "text": [
      "Para glucose=160, la probabilidad de diabetes es: 0.84\n"
     ]
    }
   ],
   "source": [
    "# Ahora escogemos un valor de \"glucose\" para el cual queremos calcular la probabilidad\n",
    "valor_glucose = 160\n",
    "\n",
    "# Calculamos la probabilidad\n",
    "probabilidad = 1 / (1 + np.exp(-(w * valor_glucose + b)))\n",
    "\n",
    "print(f\"Para glucose={valor_glucose}, la probabilidad de diabetes es: {probabilidad:.2f}\")"
   ]
  },
  {
   "cell_type": "markdown",
   "id": "df15312a-eabc-4065-a7a0-f931ce5132e5",
   "metadata": {},
   "source": [
    "## Conclusiones\n",
    "\n",
    "1. Como primera conclusión a partir de la gráfica de regresión logística realizada para el ejercicio, podemos entender que existe una relación entre el nivel de glucosa y las personas con diabetes, es decir, que, a mayor nivel de glucosa existe una probabilidad mayor de sufrir de diabetes.\n",
    "\n",
    "2. Por otro lado, debemos entender que este modelo no es del todo confiable, ya que como podemos apreciar en la grafica existen valores de personas que sufren de diabetes, pero tienen una glucosa menor a 150. Es por eso por lo que, aunque este modelo puede darnos una idea, debemos tener cuidado a la hora de realizar afirmaciones a partir de él.\n",
    "\n",
    "3. Por último, gracias al modelo realizado podemos indicar un valor para la glucosa y el nos brinda una probabilidad de tener diabetes. En el ejemplo le decimos que a partir de un valor de glucosa de 160 cual es la probabilidad de tener diabetes y el resultado es de un 84%."
   ]
  },
  {
   "cell_type": "code",
   "execution_count": null,
   "id": "0184252c-bebb-4716-8925-fdf9c1de7152",
   "metadata": {},
   "outputs": [],
   "source": []
  }
 ],
 "metadata": {
  "kernelspec": {
   "display_name": "Python 3 (ipykernel)",
   "language": "python",
   "name": "python3"
  },
  "language_info": {
   "codemirror_mode": {
    "name": "ipython",
    "version": 3
   },
   "file_extension": ".py",
   "mimetype": "text/x-python",
   "name": "python",
   "nbconvert_exporter": "python",
   "pygments_lexer": "ipython3",
   "version": "3.11.4"
  }
 },
 "nbformat": 4,
 "nbformat_minor": 5
}
