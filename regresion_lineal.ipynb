{
 "cells": [
  {
   "cell_type": "code",
   "execution_count": 6,
   "id": "0aee4deb-6bc5-44f3-8e9a-2a2883318ecf",
   "metadata": {
    "tags": []
   },
   "outputs": [],
   "source": [
    "#Ejercicio Regresión Lineal\n",
    "\n",
    "#Iniciamos cargando las librerías\n",
    "\n",
    "import matplotlib.pyplot as plt\n",
    "from sklearn import linear_model\n",
    "from sklearn.metrics import r2_score\n",
    "import seaborn as sns\n",
    "import numpy as np\n",
    "import pandas as pd"
   ]
  },
  {
   "cell_type": "code",
   "execution_count": 7,
   "id": "775b5499-ef89-4cf1-b5cf-6d75acf6908d",
   "metadata": {
    "tags": []
   },
   "outputs": [],
   "source": [
    "#Cargamos el Dataset\n",
    "\n",
    "data = pd.read_csv(\"C:\\datos\\data.csv\", sep=\",\")"
   ]
  },
  {
   "cell_type": "code",
   "execution_count": 8,
   "id": "729bd8ec-33d1-4833-93ae-ff4203c495e3",
   "metadata": {
    "tags": []
   },
   "outputs": [
    {
     "data": {
      "text/html": [
       "<div>\n",
       "<style scoped>\n",
       "    .dataframe tbody tr th:only-of-type {\n",
       "        vertical-align: middle;\n",
       "    }\n",
       "\n",
       "    .dataframe tbody tr th {\n",
       "        vertical-align: top;\n",
       "    }\n",
       "\n",
       "    .dataframe thead th {\n",
       "        text-align: right;\n",
       "    }\n",
       "</style>\n",
       "<table border=\"1\" class=\"dataframe\">\n",
       "  <thead>\n",
       "    <tr style=\"text-align: right;\">\n",
       "      <th></th>\n",
       "      <th>metro</th>\n",
       "      <th>precio</th>\n",
       "    </tr>\n",
       "  </thead>\n",
       "  <tbody>\n",
       "    <tr>\n",
       "      <th>0</th>\n",
       "      <td>5</td>\n",
       "      <td>375</td>\n",
       "    </tr>\n",
       "    <tr>\n",
       "      <th>1</th>\n",
       "      <td>15</td>\n",
       "      <td>487</td>\n",
       "    </tr>\n",
       "    <tr>\n",
       "      <th>2</th>\n",
       "      <td>20</td>\n",
       "      <td>450</td>\n",
       "    </tr>\n",
       "    <tr>\n",
       "      <th>3</th>\n",
       "      <td>25</td>\n",
       "      <td>500</td>\n",
       "    </tr>\n",
       "  </tbody>\n",
       "</table>\n",
       "</div>"
      ],
      "text/plain": [
       "   metro  precio\n",
       "0      5     375\n",
       "1     15     487\n",
       "2     20     450\n",
       "3     25     500"
      ]
     },
     "execution_count": 8,
     "metadata": {},
     "output_type": "execute_result"
    }
   ],
   "source": [
    "#Mostramos los datos que hay en el archivo \n",
    "\n",
    "data"
   ]
  },
  {
   "cell_type": "code",
   "execution_count": 13,
   "id": "4eadf021-e40d-41b4-ab84-1e5745edc9a5",
   "metadata": {
    "tags": []
   },
   "outputs": [
    {
     "name": "stdout",
     "output_type": "stream",
     "text": [
      "a: 361.25714285714287\n",
      "b: 5.645714285714287\n",
      "Predicción: Si x=35 entonces y=558.8571428571429\n",
      "Predicción: Si x=45 entonces y=615.3142857142858\n",
      "Coeficiente de determinación (R^2): 0.737202066277981\n"
     ]
    }
   ],
   "source": [
    "#Ahora vamos a realizar algunas operaciones que nos ayuden a entender mejor el modelo\n",
    "\n",
    "length = 4 \n",
    "\n",
    "x = data.metro.values\n",
    "y = data.precio.values\n",
    "\n",
    "x = x.reshape(length, 1)\n",
    "y = y.reshape(length, 1)\n",
    "\n",
    "#Regresión Lineal\n",
    "\n",
    "regresion = linear_model.LinearRegression()\n",
    "\n",
    "regresion.fit(x, y)\n",
    "\n",
    "#Coeficiente de Intercepción\n",
    "\n",
    "print(f\"a: {regresion.intercept_[0]}\")\n",
    "\n",
    "#Coeficiente de Regresión\n",
    "\n",
    "print(f\"b: {regresion.coef_[0][0]}\")\n",
    "\n",
    "#Predicciones\n",
    "\n",
    "X_predict1 = np.array([[35]])\n",
    "y_predict1 = regresion.predict(X_predict1)\n",
    "\n",
    "X_predict2 = np.array([[45]])\n",
    "y_predict2 = regresion.predict(X_predict2)\n",
    "\n",
    "print(f\"Predicción: Si x={X_predict1[0][0]} entonces y={y_predict1[0][0]}\")\n",
    "print(f\"Predicción: Si x={X_predict2[0][0]} entonces y={y_predict2[0][0]}\")\n",
    "\n",
    "#Coeficiente de determinación\n",
    "\n",
    "r2 = r2_score(y, regresion.predict(x))\n",
    "\n",
    "print(f'Coeficiente de determinación (R^2): {r2}')"
   ]
  },
  {
   "cell_type": "code",
   "execution_count": 27,
   "id": "404ddbf0-66cc-416a-9aa1-b37066824308",
   "metadata": {
    "tags": []
   },
   "outputs": [
    {
     "data": {
      "image/png": "[encoded data removed]",
      "text/plain": [
       "<Figure size 640x480 with 1 Axes>"
      ]
     },
     "metadata": {},
     "output_type": "display_data"
    }
   ],
   "source": [
    "#Graficamos\n",
    "\n",
    "data.plot.scatter(x=\"metro\", y=\"precio\", label='Datos')\n",
    "plt.scatter(x, y,  color='blue')\n",
    "plt.plot(x, regresion.predict(x), color='black', label='Línea de regresión', linewidth=3)\n",
    "plt.xlabel('Metro')\n",
    "plt.ylabel('Precio')\n",
    "plt.legend()\n",
    "plt.show()"
   ]
  },
  {
   "cell_type": "code",
   "execution_count": null,
   "id": "ec2be183-1a0b-4b42-a1be-7635d8ef15c6",
   "metadata": {},
   "outputs": [],
   "source": []
  }
 ],
 "metadata": {
  "kernelspec": {
   "display_name": "Python 3 (ipykernel)",
   "language": "python",
   "name": "python3"
  },
  "language_info": {
   "codemirror_mode": {
    "name": "ipython",
    "version": 3
   },
   "file_extension": ".py",
   "mimetype": "text/x-python",
   "name": "python",
   "nbconvert_exporter": "python",
   "pygments_lexer": "ipython3",
   "version": "3.11.4"
  }
 },
 "nbformat": 4,
 "nbformat_minor": 5
}
